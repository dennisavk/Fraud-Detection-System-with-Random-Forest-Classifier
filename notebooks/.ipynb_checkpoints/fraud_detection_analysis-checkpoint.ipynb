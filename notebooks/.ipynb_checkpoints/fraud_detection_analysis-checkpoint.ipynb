{
 "cells": [
  {
   "cell_type": "markdown",
   "id": "8757bb0b",
   "metadata": {},
   "source": [
    "# Fraud Detection: Exploratory Data Analysis (EDA)\n",
    "\n",
    "In this notebook, we'll perform exploratory data analysis on the fraud detection dataset. We'll explore the data, visualize distributions, and check for patterns or correlations in the features."
   ]
  },
  {
   "cell_type": "code",
   "execution_count": null,
   "id": "1135d842",
   "metadata": {},
   "outputs": [],
   "source": [
    "# Step 1: Import libraries\n",
    "import numpy as np\n",
    "import pandas as pd\n",
    "import matplotlib.pyplot as plt\n",
    "import seaborn as sns"
   ]
  },
  {
   "cell_type": "markdown",
   "id": "3550d9a1",
   "metadata": {},
   "source": [
    "## Step 2: Load the Data\n",
    "\n",
    "Here, we load the simulated dataset. In real-world applications, we would load this from a file or a database."
   ]
  },
  {
   "cell_type": "code",
   "execution_count": null,
   "id": "624b6d19",
   "metadata": {},
   "outputs": [],
   "source": [
    "data = {\n",
    "    'age': [23, 45, 34, 56, 22, 43, 36, 33, 54, 28],\n",
    "    'transaction_amount': [100, 250, 75, 400, 200, 180, 300, 150, 350, 90],\n",
    "    'location': ['NY', 'CA', 'CA', 'TX', 'TX', 'NY', 'NY', 'TX', 'CA', 'NY'],\n",
    "    'is_fraud': [0, 1, 0, 1, 0, 0, 1, 0, 1, 0]  # 1 = Fraud, 0 = Non-Fraud\n",
    "}\n",
    "\n",
    "df = pd.DataFrame(data)"
   ]
  },
  {
   "cell_type": "markdown",
   "id": "2da41c96",
   "metadata": {},
   "source": [
    "## Step 3: Inspect the Data\n",
    "\n",
    "Let's take a quick look at the first few rows of the dataset to understand its structure and check for any missing values."
   ]
  },
  {
   "cell_type": "code",
   "execution_count": null,
   "id": "1f92782a",
   "metadata": {},
   "outputs": [],
   "source": [
    "df.head()  # Display first few rows of the dataset"
   ]
  },
  {
   "cell_type": "markdown",
   "id": "eb454048",
   "metadata": {},
   "source": [
    "## Step 4: Visualize the Transaction Amount Distribution\n",
    "\n",
    "Here, we'll plot the distribution of the transaction amounts to get a sense of the data."
   ]
  },
  {
   "cell_type": "code",
   "execution_count": null,
   "id": "3cfd9bda",
   "metadata": {},
   "outputs": [],
   "source": [
    "# Visualize transaction amount distribution\n",
    "plt.figure(figsize=(8, 6))\n",
    "sns.histplot(df['transaction_amount'], kde=True, color='blue')\n",
    "plt.title('Transaction Amount Distribution')\n",
    "plt.xlabel('Transaction Amount')\n",
    "plt.ylabel('Frequency')\n",
    "plt.show()"
   ]
  },
  {
   "cell_type": "markdown",
   "id": "624c0688",
   "metadata": {},
   "source": [
    "## Step 6: Save the Notebook\n",
    "\n",
    "Don't forget to save your work! You can do this by selecting \"File\" → \"Save and Checkpoint\" in the Jupyter notebook interface."
   ]
  }
 ],
 "metadata": {
  "kernelspec": {
   "display_name": "Python 3 (ipykernel)",
   "language": "python",
   "name": "python3"
  },
  "language_info": {
   "codemirror_mode": {
    "name": "ipython",
    "version": 3
   },
   "file_extension": ".py",
   "mimetype": "text/x-python",
   "name": "python",
   "nbconvert_exporter": "python",
   "pygments_lexer": "ipython3",
   "version": "3.12.3"
  }
 },
 "nbformat": 4,
 "nbformat_minor": 5
}
